{
 "cells": [
  {
   "cell_type": "markdown",
   "metadata": {},
   "source": [
    "\n",
    "Predicting the stock market\n",
    "In this project, we'll be working with a csv file containing index prices. Each row in the file contains a daily record of the price of the S&P500 Index from 1950 to 2015. The dataset is stored in sphist.csv downloaded from kaggle.\n",
    "\n",
    "The columns of the dataset are:\n",
    "\n",
    "Date -- The date of the record.\n",
    "Open -- The opening price of the day (when trading starts).\n",
    "High -- The highest trade price during the day.\n",
    "Low -- The lowest trade price during the day.\n",
    "Close -- The closing price for the day (when trading is finished).\n",
    "Volume -- The number of shares traded.\n",
    "Adj Close -- The daily closing price, adjusted retroactively to include any corporate actions.\n",
    "We'll be using this dataset to develop a predictive model. We'll train the model with data from 1950-2012, and try to make predictions from 2013-2015."
   ]
  },
  {
   "cell_type": "code",
   "execution_count": 1,
   "metadata": {},
   "outputs": [],
   "source": [
    "#imports\n",
    "import numpy as np\n",
    "import pandas as pd\n",
    "import matplotlib.pyplot as plt\n",
    "from datetime import datetime\n",
    "\n",
    "from sklearn.linear_model import LinearRegression\n",
    "from sklearn.metrics import mean_absolute_error\n",
    "\n",
    "#settings\n",
    "%matplotlib inline\n",
    "from IPython.core.interactiveshell import InteractiveShell\n",
    "InteractiveShell.ast_node_interactivity = \"all\""
   ]
  },
  {
   "cell_type": "code",
   "execution_count": 3,
   "metadata": {},
   "outputs": [
    {
     "data": {
      "text/plain": [
       "(16590, 7)"
      ]
     },
     "execution_count": 3,
     "metadata": {},
     "output_type": "execute_result"
    },
    {
     "data": {
      "text/html": [
       "<div>\n",
       "<style scoped>\n",
       "    .dataframe tbody tr th:only-of-type {\n",
       "        vertical-align: middle;\n",
       "    }\n",
       "\n",
       "    .dataframe tbody tr th {\n",
       "        vertical-align: top;\n",
       "    }\n",
       "\n",
       "    .dataframe thead th {\n",
       "        text-align: right;\n",
       "    }\n",
       "</style>\n",
       "<table border=\"1\" class=\"dataframe\">\n",
       "  <thead>\n",
       "    <tr style=\"text-align: right;\">\n",
       "      <th></th>\n",
       "      <th>Date</th>\n",
       "      <th>Open</th>\n",
       "      <th>High</th>\n",
       "      <th>Low</th>\n",
       "      <th>Close</th>\n",
       "      <th>Volume</th>\n",
       "      <th>Adj Close</th>\n",
       "    </tr>\n",
       "  </thead>\n",
       "  <tbody>\n",
       "    <tr>\n",
       "      <th>0</th>\n",
       "      <td>2015-12-07</td>\n",
       "      <td>2090.419922</td>\n",
       "      <td>2090.419922</td>\n",
       "      <td>2066.780029</td>\n",
       "      <td>2077.070068</td>\n",
       "      <td>4.043820e+09</td>\n",
       "      <td>2077.070068</td>\n",
       "    </tr>\n",
       "    <tr>\n",
       "      <th>1</th>\n",
       "      <td>2015-12-04</td>\n",
       "      <td>2051.239990</td>\n",
       "      <td>2093.840088</td>\n",
       "      <td>2051.239990</td>\n",
       "      <td>2091.689941</td>\n",
       "      <td>4.214910e+09</td>\n",
       "      <td>2091.689941</td>\n",
       "    </tr>\n",
       "    <tr>\n",
       "      <th>2</th>\n",
       "      <td>2015-12-03</td>\n",
       "      <td>2080.709961</td>\n",
       "      <td>2085.000000</td>\n",
       "      <td>2042.349976</td>\n",
       "      <td>2049.620117</td>\n",
       "      <td>4.306490e+09</td>\n",
       "      <td>2049.620117</td>\n",
       "    </tr>\n",
       "    <tr>\n",
       "      <th>3</th>\n",
       "      <td>2015-12-02</td>\n",
       "      <td>2101.709961</td>\n",
       "      <td>2104.270020</td>\n",
       "      <td>2077.110107</td>\n",
       "      <td>2079.510010</td>\n",
       "      <td>3.950640e+09</td>\n",
       "      <td>2079.510010</td>\n",
       "    </tr>\n",
       "    <tr>\n",
       "      <th>4</th>\n",
       "      <td>2015-12-01</td>\n",
       "      <td>2082.929932</td>\n",
       "      <td>2103.370117</td>\n",
       "      <td>2082.929932</td>\n",
       "      <td>2102.629883</td>\n",
       "      <td>3.712120e+09</td>\n",
       "      <td>2102.629883</td>\n",
       "    </tr>\n",
       "  </tbody>\n",
       "</table>\n",
       "</div>"
      ],
      "text/plain": [
       "         Date         Open         High          Low        Close  \\\n",
       "0  2015-12-07  2090.419922  2090.419922  2066.780029  2077.070068   \n",
       "1  2015-12-04  2051.239990  2093.840088  2051.239990  2091.689941   \n",
       "2  2015-12-03  2080.709961  2085.000000  2042.349976  2049.620117   \n",
       "3  2015-12-02  2101.709961  2104.270020  2077.110107  2079.510010   \n",
       "4  2015-12-01  2082.929932  2103.370117  2082.929932  2102.629883   \n",
       "\n",
       "         Volume    Adj Close  \n",
       "0  4.043820e+09  2077.070068  \n",
       "1  4.214910e+09  2091.689941  \n",
       "2  4.306490e+09  2049.620117  \n",
       "3  3.950640e+09  2079.510010  \n",
       "4  3.712120e+09  2102.629883  "
      ]
     },
     "execution_count": 3,
     "metadata": {},
     "output_type": "execute_result"
    }
   ],
   "source": [
    "\n",
    "#load data\n",
    "sphist = pd.read_csv(r\"C:\\Users\\vijay aakula\\Downloads\\sphist.csv\\sphist.csv\")\n",
    "\n",
    "sphist.shape\n",
    "sphist.head()"
   ]
  },
  {
   "cell_type": "markdown",
   "metadata": {},
   "source": [
    "There are no null values in the data which is good. The Date column is in string. Let's convert it into date type so we can perform date operation using it. Once we convert we shall sort the dataframe on the date column in ascending order."
   ]
  },
  {
   "cell_type": "code",
   "execution_count": 4,
   "metadata": {},
   "outputs": [],
   "source": [
    "sphist['Date'] = pd.to_datetime(sphist['Date'])\n",
    "\n",
    "sphist = sphist.sort_values(\"Date\")\n",
    "sphist = sphist.reset_index(drop=True)"
   ]
  },
  {
   "cell_type": "markdown",
   "metadata": {},
   "source": [
    "\n",
    "As stock market data is seqential and we cannot train our model to use future data for training past rows. Injecting future knowledge will make our model look good when you're training and testing it, but will make it fail in the real world.\n",
    "\n",
    "We shall generate few indicator columns that will capture the average price using historical data. This will make predictions more accurate.\n",
    "\n",
    "Here are indicators that are interesting to generate for each row:\n",
    "\n",
    "The average price from the past 5 days.\n",
    "The average price for the past 30 days.\n",
    "The average price for the past 365 days."
   ]
  },
  {
   "cell_type": "code",
   "execution_count": 5,
   "metadata": {},
   "outputs": [],
   "source": [
    "#generate indicator columns\n",
    "days = [5,30,365]\n",
    "for day in days:\n",
    "    #generate column name\n",
    "    col_name = \"avg_\" + str(day) + \"_days\"\n",
    "    sphist[col_name] = 0\n",
    "    for idx, row in sphist.iterrows():\n",
    "        if idx >= day:\n",
    "            #calculate past n days \"Close\" price average and assign to new column\n",
    "            avg = sphist['Close'][idx-day:idx].mean()\n",
    "            sphist.loc[idx, col_name] = avg"
   ]
  },
  {
   "cell_type": "markdown",
   "metadata": {},
   "source": [
    "Let's view the head of the data to check the newly created columns."
   ]
  },
  {
   "cell_type": "code",
   "execution_count": 7,
   "metadata": {},
   "outputs": [
    {
     "data": {
      "text/html": [
       "<div>\n",
       "<style scoped>\n",
       "    .dataframe tbody tr th:only-of-type {\n",
       "        vertical-align: middle;\n",
       "    }\n",
       "\n",
       "    .dataframe tbody tr th {\n",
       "        vertical-align: top;\n",
       "    }\n",
       "\n",
       "    .dataframe thead th {\n",
       "        text-align: right;\n",
       "    }\n",
       "</style>\n",
       "<table border=\"1\" class=\"dataframe\">\n",
       "  <thead>\n",
       "    <tr style=\"text-align: right;\">\n",
       "      <th></th>\n",
       "      <th>Date</th>\n",
       "      <th>Open</th>\n",
       "      <th>High</th>\n",
       "      <th>Low</th>\n",
       "      <th>Close</th>\n",
       "      <th>Volume</th>\n",
       "      <th>Adj Close</th>\n",
       "      <th>avg_5_days</th>\n",
       "      <th>avg_30_days</th>\n",
       "      <th>avg_365_days</th>\n",
       "    </tr>\n",
       "  </thead>\n",
       "  <tbody>\n",
       "    <tr>\n",
       "      <th>0</th>\n",
       "      <td>1950-01-03</td>\n",
       "      <td>16.660000</td>\n",
       "      <td>16.660000</td>\n",
       "      <td>16.660000</td>\n",
       "      <td>16.660000</td>\n",
       "      <td>1260000.0</td>\n",
       "      <td>16.660000</td>\n",
       "      <td>0.000</td>\n",
       "      <td>0.0</td>\n",
       "      <td>0.0</td>\n",
       "    </tr>\n",
       "    <tr>\n",
       "      <th>1</th>\n",
       "      <td>1950-01-04</td>\n",
       "      <td>16.850000</td>\n",
       "      <td>16.850000</td>\n",
       "      <td>16.850000</td>\n",
       "      <td>16.850000</td>\n",
       "      <td>1890000.0</td>\n",
       "      <td>16.850000</td>\n",
       "      <td>0.000</td>\n",
       "      <td>0.0</td>\n",
       "      <td>0.0</td>\n",
       "    </tr>\n",
       "    <tr>\n",
       "      <th>2</th>\n",
       "      <td>1950-01-05</td>\n",
       "      <td>16.930000</td>\n",
       "      <td>16.930000</td>\n",
       "      <td>16.930000</td>\n",
       "      <td>16.930000</td>\n",
       "      <td>2550000.0</td>\n",
       "      <td>16.930000</td>\n",
       "      <td>0.000</td>\n",
       "      <td>0.0</td>\n",
       "      <td>0.0</td>\n",
       "    </tr>\n",
       "    <tr>\n",
       "      <th>3</th>\n",
       "      <td>1950-01-06</td>\n",
       "      <td>16.980000</td>\n",
       "      <td>16.980000</td>\n",
       "      <td>16.980000</td>\n",
       "      <td>16.980000</td>\n",
       "      <td>2010000.0</td>\n",
       "      <td>16.980000</td>\n",
       "      <td>0.000</td>\n",
       "      <td>0.0</td>\n",
       "      <td>0.0</td>\n",
       "    </tr>\n",
       "    <tr>\n",
       "      <th>4</th>\n",
       "      <td>1950-01-09</td>\n",
       "      <td>17.080000</td>\n",
       "      <td>17.080000</td>\n",
       "      <td>17.080000</td>\n",
       "      <td>17.080000</td>\n",
       "      <td>2520000.0</td>\n",
       "      <td>17.080000</td>\n",
       "      <td>0.000</td>\n",
       "      <td>0.0</td>\n",
       "      <td>0.0</td>\n",
       "    </tr>\n",
       "    <tr>\n",
       "      <th>5</th>\n",
       "      <td>1950-01-10</td>\n",
       "      <td>17.030001</td>\n",
       "      <td>17.030001</td>\n",
       "      <td>17.030001</td>\n",
       "      <td>17.030001</td>\n",
       "      <td>2160000.0</td>\n",
       "      <td>17.030001</td>\n",
       "      <td>16.900</td>\n",
       "      <td>0.0</td>\n",
       "      <td>0.0</td>\n",
       "    </tr>\n",
       "    <tr>\n",
       "      <th>6</th>\n",
       "      <td>1950-01-11</td>\n",
       "      <td>17.090000</td>\n",
       "      <td>17.090000</td>\n",
       "      <td>17.090000</td>\n",
       "      <td>17.090000</td>\n",
       "      <td>2630000.0</td>\n",
       "      <td>17.090000</td>\n",
       "      <td>16.974</td>\n",
       "      <td>0.0</td>\n",
       "      <td>0.0</td>\n",
       "    </tr>\n",
       "    <tr>\n",
       "      <th>7</th>\n",
       "      <td>1950-01-12</td>\n",
       "      <td>16.760000</td>\n",
       "      <td>16.760000</td>\n",
       "      <td>16.760000</td>\n",
       "      <td>16.760000</td>\n",
       "      <td>2970000.0</td>\n",
       "      <td>16.760000</td>\n",
       "      <td>17.022</td>\n",
       "      <td>0.0</td>\n",
       "      <td>0.0</td>\n",
       "    </tr>\n",
       "  </tbody>\n",
       "</table>\n",
       "</div>"
      ],
      "text/plain": [
       "        Date       Open       High        Low      Close     Volume  \\\n",
       "0 1950-01-03  16.660000  16.660000  16.660000  16.660000  1260000.0   \n",
       "1 1950-01-04  16.850000  16.850000  16.850000  16.850000  1890000.0   \n",
       "2 1950-01-05  16.930000  16.930000  16.930000  16.930000  2550000.0   \n",
       "3 1950-01-06  16.980000  16.980000  16.980000  16.980000  2010000.0   \n",
       "4 1950-01-09  17.080000  17.080000  17.080000  17.080000  2520000.0   \n",
       "5 1950-01-10  17.030001  17.030001  17.030001  17.030001  2160000.0   \n",
       "6 1950-01-11  17.090000  17.090000  17.090000  17.090000  2630000.0   \n",
       "7 1950-01-12  16.760000  16.760000  16.760000  16.760000  2970000.0   \n",
       "\n",
       "   Adj Close  avg_5_days  avg_30_days  avg_365_days  \n",
       "0  16.660000       0.000          0.0           0.0  \n",
       "1  16.850000       0.000          0.0           0.0  \n",
       "2  16.930000       0.000          0.0           0.0  \n",
       "3  16.980000       0.000          0.0           0.0  \n",
       "4  17.080000       0.000          0.0           0.0  \n",
       "5  17.030001      16.900          0.0           0.0  \n",
       "6  17.090000      16.974          0.0           0.0  \n",
       "7  16.760000      17.022          0.0           0.0  "
      ]
     },
     "execution_count": 7,
     "metadata": {},
     "output_type": "execute_result"
    }
   ],
   "source": [
    "\n",
    "sphist.head(8)"
   ]
  },
  {
   "cell_type": "markdown",
   "metadata": {},
   "source": [
    "\n",
    "New columns look good. But we need to remove the rows with \"0\" values as we are computing indicators with historical data. And the rows with value \"0\" don't capture this due to insufficient number of days to compute the indicator.\n",
    "\n",
    "So let's drop rows with '0' in column \"avg_365_days\" which will also remove rows with '0' in other 2 columns.\n",
    "\n",
    "Note: Checked for any other rows with value '0' ohter than first 365. There are none."
   ]
  },
  {
   "cell_type": "code",
   "execution_count": 8,
   "metadata": {},
   "outputs": [
    {
     "data": {
      "text/plain": [
       "(16225, 10)"
      ]
     },
     "execution_count": 8,
     "metadata": {},
     "output_type": "execute_result"
    }
   ],
   "source": [
    "sphist = sphist[sphist['avg_365_days'] != 0]\n",
    "\n",
    "sphist.shape"
   ]
  },
  {
   "cell_type": "markdown",
   "metadata": {},
   "source": [
    "\n",
    "We are good to build a model using this data now. Let's split the data into train and test sets .\n",
    "\n",
    "As mentioned earlier we will use data prior to 2013 to make predictions in 2013-15. Let's split the data accordingly. We use Linear Regression to build the model.\n",
    "\n",
    "Note: We will leave out all of the original columns (Close, High, Low, Open, Volume, Adj Close, Date) when training the model. These all contain knowledge of the future that we don't want to feed the model."
   ]
  },
  {
   "cell_type": "code",
   "execution_count": 9,
   "metadata": {},
   "outputs": [
    {
     "data": {
      "text/plain": [
       "LinearRegression(copy_X=True, fit_intercept=True, n_jobs=None, normalize=False)"
      ]
     },
     "execution_count": 9,
     "metadata": {},
     "output_type": "execute_result"
    }
   ],
   "source": [
    "#split data to trian and test sets\n",
    "train = sphist[sphist['Date'] < datetime(year=2013, month=1, day=1)]\n",
    "test = sphist[sphist['Date'] >= datetime(year=2013, month=1, day=1)]\n",
    "\n",
    "#build model\n",
    "features = ['avg_5_days', 'avg_30_days', 'avg_365_days']\n",
    "target = 'Close'\n",
    "\n",
    "ln = LinearRegression()\n",
    "ln.fit(train[features], train[target])\n",
    "\n",
    "#predictions\n",
    "train_pred = ln.predict(train[features])\n",
    "test_pred = ln.predict(test[features])"
   ]
  },
  {
   "cell_type": "markdown",
   "metadata": {},
   "source": [
    "\n",
    "Here we shall chose MAE(Mean Absolute Error) as our metric to evaluate the model. As it will show us how \"close\" we were to the price in intuitive terms. MSE (Mean Squared Error), is an alternative that is more commonly used, but makes it harder to intuitively tell how far off we are from the true price because it squares the error."
   ]
  },
  {
   "cell_type": "code",
   "execution_count": 10,
   "metadata": {},
   "outputs": [
    {
     "name": "stdout",
     "output_type": "stream",
     "text": [
      "MAE train: 4.980534340688775\n",
      "MAE test: 16.14243964355504\n"
     ]
    },
    {
     "data": {
      "text/plain": [
       "count     739.000000\n",
       "mean     1874.890338\n",
       "std       192.389058\n",
       "min      1457.150024\n",
       "25%      1697.450012\n",
       "50%      1920.239990\n",
       "75%      2052.165039\n",
       "max      2130.820068\n",
       "Name: Close, dtype: float64"
      ]
     },
     "execution_count": 10,
     "metadata": {},
     "output_type": "execute_result"
    }
   ],
   "source": [
    "print(\"MAE train:\", mean_absolute_error(train[target], train_pred))\n",
    "print(\"MAE test:\", mean_absolute_error(test[target], test_pred))\n",
    "\n",
    "#stats of Close column\n",
    "test['Close'].describe()"
   ]
  },
  {
   "cell_type": "markdown",
   "metadata": {},
   "source": [
    "\n",
    "Our test error in 16.14 which is pretty good. This means our prediction of Close price is off by only 16.14 dollars. With the mean value of 1874 and standard deviation of 192 for the test dataset, 16.14 is a small number.\n",
    "\n",
    "However there is a scope to improve the model. We can see that the model is over fit. The model is trained well with MAE of 4.98 but when it faultered to generalize with such accuracy."
   ]
  },
  {
   "cell_type": "markdown",
   "metadata": {},
   "source": [
    "\n",
    "Ideas to improve further\n",
    "There's a lot of improvement still to be made on the indicator side, we can think of better indicators that we could use for prediction. We can also make significant structural improvements to the algorithm, and pull in data from other sources.\n",
    "\n",
    "Accuracy would improve greatly by making predictions only one day ahead. For example, train a model using data from 1951-01-03 to 2013-01-02, make predictions for 2013-01-03, and then train another model using data from 1951-01-03 to 2013-01-03, make predictions for 2013-01-04, and so on. This more closely simulates what we'd do if we were trading using the algorithm.\n",
    "\n",
    "We can also improve the algorithm used significantly. Try other techniques, like a random forest, and see if they perform better.\n",
    "\n",
    "We can also incorporate outside data, such as the weather in New York City (where most trading happens) the day before, and the amount of Twitter activity around certain stocks.\n",
    "\n",
    "We can also make the system real-time by writing an automated script to download the latest data when the market closes, and make predictions for the next day.\n",
    "\n",
    "Finally, We can make the system \"higher-resolution\". You're currently making daily predictions, but you could make hourly, minute-by-minute, or second by second predictions. This will require obtaining more data, though. We could also make predictions for individual stocks instead of the S&P500."
   ]
  }
 ],
 "metadata": {
  "kernelspec": {
   "display_name": "Python 3",
   "language": "python",
   "name": "python3"
  },
  "language_info": {
   "codemirror_mode": {
    "name": "ipython",
    "version": 3
   },
   "file_extension": ".py",
   "mimetype": "text/x-python",
   "name": "python",
   "nbconvert_exporter": "python",
   "pygments_lexer": "ipython3",
   "version": "3.7.3"
  }
 },
 "nbformat": 4,
 "nbformat_minor": 2
}
